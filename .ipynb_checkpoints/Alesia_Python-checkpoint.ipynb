{
 "cells": [
  {
   "cell_type": "code",
   "execution_count": 1,
   "metadata": {},
   "outputs": [],
   "source": [
    "import numpy as np"
   ]
  },
  {
   "cell_type": "markdown",
   "metadata": {},
   "source": [
    "My Code"
   ]
  },
  {
   "cell_type": "code",
   "execution_count": 2,
   "metadata": {},
   "outputs": [],
   "source": [
    "def consecutive_run(list_in, run_len):\n",
    "    # check that input vector is a numpy array rather than a python list\n",
    "    if ~isinstance(list_in,np.ndarray):\n",
    "        list_in = np.array(list_in)\n",
    "    \n",
    "    # get the diff of inputs\n",
    "    list_diff = np.diff(list_in)\n",
    "    \n",
    "    # create a matrix that is that diff x (run - 1) in shape \n",
    "    # each column of the matrix is one offset from the previous column, such that if all rows\n",
    "    # are either 1 or -1 then it's a run\n",
    "    # vertical index of the column gives the position of the start of the run\n",
    "    run_matrix = np.zeros(shape=(np.size(list_diff),run_len-1))\n",
    "    \n",
    "    for run_incr in range(run_len-1):\n",
    "        run_matrix[0:np.size(list_diff) - run_incr, run_incr] = list_diff[run_incr:]\n",
    "\n",
    "    ind_run_start = np.where(np.all(run_matrix == 1, axis = 1) | (np.all(run_matrix == -1, axis = 1)))[0]\n",
    "    \n",
    "    #if run_len > 7:\n",
    "    #    for ind_run in range(np.size(ind_run_start)):\n",
    "    #        print(list_in[ind_run_start[ind_run]:ind_run_start[ind_run] + run_len])\n",
    "    \n",
    "    return ind_run_start\n",
    "\n",
    "\n",
    "def consecutive_run_2(list_in, run_len, skip_flag):\n",
    "    # check that input vector is a numpy array rather than a python list\n",
    "    \n",
    "    if skip_flag:\n",
    "        return None\n",
    "    \n",
    "    if ~isinstance(list_in,np.ndarray):\n",
    "        list_in = np.array(list_in)\n",
    "    \n",
    "    # get the diff of inputs\n",
    "    list_diff = np.diff(list_in)\n",
    "    \n",
    "    # create a matrix that is that diff x (run - 1) in shape \n",
    "    # each column of the matrix is one offset from the previous column, such that if all rows\n",
    "    # are either 1 or -1 then it's a run\n",
    "    # vertical index of the column gives the position of the start of the run\n",
    "    #run_matrix = np.zeros(shape=(np.size(list_diff),run_length-1))\n",
    "    truth_vector_positive = list_diff == 1\n",
    "    truth_vector_negative = list_diff == -1\n",
    "    \n",
    "    for run_incr in range(1, run_len-1):\n",
    "        truth_vector_positive = np.all([truth_vector_positive[:-1], \n",
    "                                                    truth_vector_positive[1:]], axis = 0)\n",
    "        truth_vector_negative = np.all([truth_vector_negative[:-1], \n",
    "                                                    truth_vector_negative[1:]], axis = 0)\n",
    "\n",
    "    truth_vector = np.where(np.any([truth_vector_positive, truth_vector_negative], axis = 0))[0]\n",
    "    \n",
    "    if run_len > 8:\n",
    "        for ind_run in range(np.size(truth_vector)):\n",
    "            print(list_in[truth_vector[ind_run]:truth_vector[ind_run] + run_len])\n",
    "    \n",
    "    return truth_vector"
   ]
  },
  {
   "cell_type": "markdown",
   "metadata": {},
   "source": [
    "Alesia Code"
   ]
  },
  {
   "cell_type": "code",
   "execution_count": 3,
   "metadata": {},
   "outputs": [],
   "source": [
    "def consecutive_run_solution(list_in, run_len):\n",
    "    output=list()\n",
    "    for i in range(0,len(list_in)-run_len,1):\n",
    "        count = 1\n",
    "        if list_in[i+1]-list_in[i] == 1:\n",
    "            for j in range(1,run_len-1,1):\n",
    "                if(list_in[i+j+1]-list_in[i+j]) == 1:\n",
    "                    count=count+1\n",
    "        elif list_in[i+1]-list_in[i] == -1:\n",
    "            for j in range(1,run_len-1,1):\n",
    "                if list_in[i+j+1]-list_in[i+j] == -1:\n",
    "                    count=count+1\n",
    "        if count == (run_len-1):\n",
    "            output.append(i)\n",
    "    #print(output)\n",
    "    \n",
    "    return output"
   ]
  },
  {
   "cell_type": "code",
   "execution_count": 6,
   "metadata": {},
   "outputs": [],
   "source": [
    "list_in = np.random.randint(0,10,1000000)"
   ]
  },
  {
   "cell_type": "code",
   "execution_count": 7,
   "metadata": {},
   "outputs": [
    {
     "name": "stdout",
     "output_type": "stream",
     "text": [
      "[2, 179548]\n",
      "[3, 16100]\n",
      "[4, 1437]\n",
      "[5, 119]\n",
      "[6, 12]\n",
      "[7, 3]\n",
      "[8, 0]\n",
      "[9, 1]\n",
      "[10, 1]\n",
      "Wall time: 63.5 ms\n"
     ]
    }
   ],
   "source": [
    "%%time\n",
    "skip_flag = False\n",
    "for run_length in range(2,11):\n",
    "    solution = consecutive_run_2(list_in,run_length,skip_flag)\n",
    "    print([run_length, np.size(solution)])\n",
    "    if np.size(solution) == 0:\n",
    "        skip_flag = True"
   ]
  },
  {
   "cell_type": "code",
   "execution_count": 8,
   "metadata": {},
   "outputs": [
    {
     "name": "stdout",
     "output_type": "stream",
     "text": [
      "Wall time: 75.4 ms\n"
     ]
    }
   ],
   "source": [
    "%%time\n",
    "misha_sol = consecutive_run(list_in,run_length)"
   ]
  },
  {
   "cell_type": "code",
   "execution_count": 10,
   "metadata": {},
   "outputs": [
    {
     "name": "stdout",
     "output_type": "stream",
     "text": [
      "Wall time: 13.9 ms\n"
     ]
    }
   ],
   "source": [
    "%%time\n",
    "misha_sol_2 = consecutive_run_2(list_in,run_length, False)"
   ]
  },
  {
   "cell_type": "code",
   "execution_count": 11,
   "metadata": {},
   "outputs": [
    {
     "name": "stdout",
     "output_type": "stream",
     "text": [
      "Wall time: 1.2 s\n"
     ]
    }
   ],
   "source": [
    "%%time\n",
    "list_b = list(list_in)\n",
    "alesia_sol = consecutive_run_solution(list_b,run_length)"
   ]
  },
  {
   "cell_type": "code",
   "execution_count": 12,
   "metadata": {},
   "outputs": [
    {
     "data": {
      "text/plain": [
       "True"
      ]
     },
     "execution_count": 12,
     "metadata": {},
     "output_type": "execute_result"
    }
   ],
   "source": [
    "np.all(misha_sol == np.array(alesia_sol))"
   ]
  },
  {
   "cell_type": "code",
   "execution_count": null,
   "metadata": {},
   "outputs": [],
   "source": []
  }
 ],
 "metadata": {
  "kernelspec": {
   "display_name": "Python 3",
   "language": "python",
   "name": "python3"
  },
  "language_info": {
   "codemirror_mode": {
    "name": "ipython",
    "version": 3
   },
   "file_extension": ".py",
   "mimetype": "text/x-python",
   "name": "python",
   "nbconvert_exporter": "python",
   "pygments_lexer": "ipython3",
   "version": "3.8.5"
  }
 },
 "nbformat": 4,
 "nbformat_minor": 4
}
